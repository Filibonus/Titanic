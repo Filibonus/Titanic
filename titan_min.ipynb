{
 "cells": [
  {
   "cell_type": "code",
   "execution_count": 11,
   "metadata": {},
   "outputs": [],
   "source": [
    "# Base.\n",
    "import numpy as np\n",
    "import pandas as pd\n",
    "import matplotlib.pyplot as plt\n",
    "import seaborn as sns\n",
    "# Models.\n",
    "from sklearn.neighbors import KNeighborsClassifier\n",
    "from sklearn.linear_model import LogisticRegression\n",
    "from sklearn.ensemble import RandomForestClassifier\n",
    "import lightgbm as lgb\n",
    "# Metrics.\n",
    "from sklearn.metrics import roc_auc_score, average_precision_score\n",
    "# Scalers.\n",
    "from sklearn.preprocessing import StandardScaler\n",
    "from sklearn.preprocessing import MinMaxScaler\n",
    "# Utilities.\n",
    "from sklearn.preprocessing import OneHotEncoder, OrdinalEncoder\n",
    "from sklearn.model_selection import train_test_split\n",
    "from sklearn.pipeline import Pipeline\n",
    "from sklearn.compose import ColumnTransformer, make_column_selector\n",
    "from sklearn.base import TransformerMixin\n",
    "\n",
    "import warnings\n",
    "warnings.filterwarnings('ignore')\n",
    "\n",
    "np.random.seed(42)"
   ]
  },
  {
   "cell_type": "code",
   "execution_count": 12,
   "metadata": {},
   "outputs": [],
   "source": [
    "df_train = pd.read_csv('dataset/train.csv')\n",
    "df_test = pd.read_csv('dataset/test.csv')"
   ]
  },
  {
   "cell_type": "code",
   "execution_count": 13,
   "metadata": {},
   "outputs": [],
   "source": [
    "X = df_train.drop('Survived', axis=1)\n",
    "y = df_train.Survived\n",
    "X_test = df_test"
   ]
  },
  {
   "cell_type": "code",
   "execution_count": 14,
   "metadata": {},
   "outputs": [],
   "source": [
    "X_train, X_valid, y_train, y_valid = train_test_split(X, y, test_size=0.2)"
   ]
  },
  {
   "attachments": {},
   "cell_type": "markdown",
   "metadata": {},
   "source": [
    "### Preprocess"
   ]
  },
  {
   "cell_type": "code",
   "execution_count": 15,
   "metadata": {},
   "outputs": [],
   "source": [
    "cat_features = ['PassengerId', 'Title', 'Name', 'Cabin', 'Ticket', 'Embarked']"
   ]
  },
  {
   "cell_type": "code",
   "execution_count": 16,
   "metadata": {},
   "outputs": [],
   "source": [
    "class NaImputer (TransformerMixin):\n",
    "    def __init__(self):\n",
    "        pass\n",
    "\n",
    "    \n",
    "    def fit(self, X, y=None):\n",
    "        return self\n",
    "\n",
    "    \n",
    "    def transform(self, X, y=None):\n",
    "        X_new = self.impute_age(X)\n",
    "\n",
    "        return X_new\n",
    "    \n",
    "\n",
    "    @staticmethod\n",
    "    def impute_age(X):\n",
    "        X_new = X.copy()\n",
    "        '''Imputation for compliting missing \"Age\" values\n",
    "        using median depending on passenger title.\n",
    "        '''\n",
    "        # Extract titles from passenger names.\n",
    "        X_new['Title'] = X_new.Name.apply(lambda x : x.replace(',', '').split()[1])\n",
    "        # Impute median.\n",
    "        titles = ['Mr.', 'Miss.', 'Mrs.', 'Master.']\n",
    "        medians = [X_new.loc[X_new.Title == x].Age.median() for x in titles]\n",
    "        median_ages = dict(zip(titles, medians))\n",
    "\n",
    "        for title, median in median_ages.items():\n",
    "            cond1 = X_new['Age'].isna()\n",
    "            cond2 = X_new['Title'] == title\n",
    "            X_new.loc[cond1 & cond2, 'Age'] = median\n",
    "        \n",
    "        # Set median to other titles.\n",
    "        X_new.Age.fillna(X_new.loc[X_new.Sex == 'male'].Age.median(), inplace=True)\n",
    "        \n",
    "        return X_new\n"
   ]
  },
  {
   "cell_type": "code",
   "execution_count": 17,
   "metadata": {},
   "outputs": [],
   "source": [
    "class FeatureExtractor (TransformerMixin):\n",
    "    def __init__(self):\n",
    "        pass\n",
    "\n",
    "    \n",
    "    def fit(self, X, y=None):\n",
    "        return self\n",
    "\n",
    "    \n",
    "    def transform(self, X, y=None):\n",
    "        X_new = self.simplify_feats(X)\n",
    "        X_new.drop(columns=cat_features, inplace=True)\n",
    "\n",
    "        return X_new\n",
    "    \n",
    "\n",
    "    def simplify_feats(self, X):\n",
    "        X_new = X.copy()\n",
    "        X_new.loc[X_new['SibSp'] >= 1, 'SibSp'] = 1\n",
    "        X_new.loc[X_new['Parch'] >= 1, 'Parch'] = 1\n",
    "\n",
    "        return X_new"
   ]
  },
  {
   "cell_type": "code",
   "execution_count": 18,
   "metadata": {},
   "outputs": [],
   "source": [
    "ct = ColumnTransformer(\n",
    "    remainder='passthrough', \n",
    "    transformers=[\n",
    "        ('Ordinal Enc', OrdinalEncoder(), ['Sex']),\n",
    "        ('Age scale', StandardScaler(), ['Age']),\n",
    "    ]\n",
    ")"
   ]
  },
  {
   "cell_type": "code",
   "execution_count": 19,
   "metadata": {},
   "outputs": [],
   "source": [
    "pipe = Pipeline([\n",
    "    ('NaN impute', NaImputer()),\n",
    "    ('Feature extraction', FeatureExtractor()),\n",
    "    ('Feature transform', ct),\n",
    "    ('Model', lgb.LGBMClassifier(\n",
    "        reg_alpha=1.9877816846823654e-05,\n",
    "        reg_lambda=1.696137968600218e-08,\n",
    "        num_leaves=72,\n",
    "        min_child_samples=76,\n",
    "        learning_rate=0.30120206892454016,\n",
    "        n_estimators=150,\n",
    "        )\n",
    "    )\n",
    "])"
   ]
  },
  {
   "cell_type": "code",
   "execution_count": 20,
   "metadata": {},
   "outputs": [
    {
     "data": {
      "text/plain": [
       "0.8530244530244532"
      ]
     },
     "execution_count": 20,
     "metadata": {},
     "output_type": "execute_result"
    }
   ],
   "source": [
    "pipe.fit(X_train, y_train)\n",
    "y_pred = pipe.predict(X_valid)\n",
    "roc_auc_score(y_valid, y_pred)"
   ]
  }
 ],
 "metadata": {
  "kernelspec": {
   "display_name": "ds",
   "language": "python",
   "name": "python3"
  },
  "language_info": {
   "codemirror_mode": {
    "name": "ipython",
    "version": 3
   },
   "file_extension": ".py",
   "mimetype": "text/x-python",
   "name": "python",
   "nbconvert_exporter": "python",
   "pygments_lexer": "ipython3",
   "version": "3.10.10"
  },
  "orig_nbformat": 4,
  "vscode": {
   "interpreter": {
    "hash": "19523abce793bf83f565f7fb73e01dee76b7fc30f71fbecb42768dbd1f77d68e"
   }
  }
 },
 "nbformat": 4,
 "nbformat_minor": 2
}
